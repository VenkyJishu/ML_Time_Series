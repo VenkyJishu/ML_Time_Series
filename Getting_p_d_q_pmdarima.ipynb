{
 "cells": [
  {
   "cell_type": "code",
   "execution_count": 3,
   "id": "d4c50027-a97d-4a0b-8cfa-fdb1710df1f6",
   "metadata": {},
   "outputs": [
    {
     "name": "stdout",
     "output_type": "stream",
     "text": [
      "ADF Statistic: -0.15026113477284184\n",
      "p-value: 0.9441964694670332\n",
      "\n",
      "The time series is likely non-stationary (consider differencing).\n"
     ]
    }
   ],
   "source": [
    "import numpy as np\n",
    "import pandas as pd\n",
    "import matplotlib.pyplot as plt\n",
    "from pmdarima import auto_arima\n",
    "from statsmodels.tsa.stattools import adfuller\n",
    "\n",
    "# Step 1: Create synthetic non-stationary time series data\n",
    "np.random.seed(42)\n",
    "dates = pd.date_range(start='2023-01-01', periods=100, freq='D')\n",
    "values = np.random.randn(100) + np.arange(100) * 0.1  # Trend + random noise\n",
    "data = pd.Series(values, index=dates)\n",
    "\n",
    "# Step 2: Perform the ADF test to check for stationarity\n",
    "def adf_test(series):\n",
    "    result = adfuller(series)\n",
    "    print('ADF Statistic:', result[0])\n",
    "    print('p-value:', result[1])\n",
    "    \n",
    "    return result[1]\n",
    "\n",
    "# Check stationarity\n",
    "adf_p_value = adf_test(data)\n",
    "if adf_p_value > 0.05:\n",
    "    print(\"\\nThe time series is likely non-stationary (consider differencing).\")\n",
    "else:\n",
    "    print(\"\\nThe time series is likely stationary.\")\n",
    "\n",
    "# Step 3: Differencing the data if non-stationary\n",
    "if adf_p_value > 0.05:\n",
    "    data_diff = data.diff().dropna()  # First order differencing\n",
    "else:\n",
    "    data_diff = data\n"
   ]
  },
  {
   "cell_type": "code",
   "execution_count": 4,
   "id": "72394ac8-984d-4778-8039-068641ef2b85",
   "metadata": {},
   "outputs": [
    {
     "name": "stdout",
     "output_type": "stream",
     "text": [
      "Performing stepwise search to minimize aic\n",
      " ARIMA(2,0,2)(0,0,0)[0]             : AIC=295.161, Time=0.17 sec\n",
      " ARIMA(0,0,0)(0,0,0)[0]             : AIC=334.882, Time=0.02 sec\n",
      " ARIMA(1,0,0)(0,0,0)[0]             : AIC=311.006, Time=0.05 sec\n",
      " ARIMA(0,0,1)(0,0,0)[0]             : AIC=292.635, Time=0.03 sec\n",
      " ARIMA(1,0,1)(0,0,0)[0]             : AIC=294.181, Time=0.06 sec\n",
      " ARIMA(0,0,2)(0,0,0)[0]             : AIC=294.031, Time=0.05 sec\n",
      " ARIMA(1,0,2)(0,0,0)[0]             : AIC=inf, Time=0.43 sec\n",
      " ARIMA(0,0,1)(0,0,0)[0] intercept   : AIC=inf, Time=0.27 sec\n",
      "\n",
      "Best model:  ARIMA(0,0,1)(0,0,0)[0]          \n",
      "Total fit time: 1.071 seconds\n",
      "                               SARIMAX Results                                \n",
      "==============================================================================\n",
      "Dep. Variable:                      y   No. Observations:                   99\n",
      "Model:               SARIMAX(0, 0, 1)   Log Likelihood                -144.318\n",
      "Date:                Thu, 03 Oct 2024   AIC                            292.635\n",
      "Time:                        16:37:57   BIC                            297.825\n",
      "Sample:                    01-02-2023   HQIC                           294.735\n",
      "                         - 04-10-2023                                         \n",
      "Covariance Type:                  opg                                         \n",
      "==============================================================================\n",
      "                 coef    std err          z      P>|z|      [0.025      0.975]\n",
      "------------------------------------------------------------------------------\n",
      "ma.L1         -0.6986      0.079     -8.816      0.000      -0.854      -0.543\n",
      "sigma2         1.0734      0.152      7.042      0.000       0.775       1.372\n",
      "===================================================================================\n",
      "Ljung-Box (L1) (Q):                   2.68   Jarque-Bera (JB):                 1.22\n",
      "Prob(Q):                              0.10   Prob(JB):                         0.54\n",
      "Heteroskedasticity (H):               1.13   Skew:                            -0.21\n",
      "Prob(H) (two-sided):                  0.72   Kurtosis:                         3.34\n",
      "===================================================================================\n",
      "\n",
      "Warnings:\n",
      "[1] Covariance matrix calculated using the outer product of gradients (complex-step).\n"
     ]
    }
   ],
   "source": [
    "# Step 4: Use auto_arima to determine p, d, and q\n",
    "model = auto_arima(data_diff, seasonal=False, stepwise=True, trace=True)\n",
    "\n",
    "# Step 5: Print the best parameters\n",
    "print(model.summary())\n"
   ]
  },
  {
   "cell_type": "code",
   "execution_count": null,
   "id": "65fe8667-fb69-4836-840a-ce6132b99246",
   "metadata": {},
   "outputs": [],
   "source": []
  }
 ],
 "metadata": {
  "kernelspec": {
   "display_name": "Python 3 (ipykernel)",
   "language": "python",
   "name": "python3"
  },
  "language_info": {
   "codemirror_mode": {
    "name": "ipython",
    "version": 3
   },
   "file_extension": ".py",
   "mimetype": "text/x-python",
   "name": "python",
   "nbconvert_exporter": "python",
   "pygments_lexer": "ipython3",
   "version": "3.11.7"
  }
 },
 "nbformat": 4,
 "nbformat_minor": 5
}
