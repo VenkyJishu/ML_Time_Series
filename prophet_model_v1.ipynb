{
 "cells": [
  {
   "cell_type": "code",
   "execution_count": 1,
   "id": "90692a4b-dcc6-4692-a9e6-602812fba364",
   "metadata": {},
   "outputs": [
    {
     "name": "stdout",
     "output_type": "stream",
     "text": [
      "C:\\Anaconda\\envs\\prophet39_v2\\python.exe\n"
     ]
    }
   ],
   "source": [
    "import sys\n",
    "print(sys.executable)"
   ]
  },
  {
   "cell_type": "code",
   "execution_count": 2,
   "id": "44f5ee29-a222-4e2f-b6dd-ce798d4fc44b",
   "metadata": {},
   "outputs": [
    {
     "name": "stderr",
     "output_type": "stream",
     "text": [
      "C:\\Anaconda\\envs\\prophet39_v2\\lib\\site-packages\\tqdm\\auto.py:21: TqdmWarning: IProgress not found. Please update jupyter and ipywidgets. See https://ipywidgets.readthedocs.io/en/stable/user_install.html\n",
      "  from .autonotebook import tqdm as notebook_tqdm\n",
      "Importing plotly failed. Interactive plots will not work.\n"
     ]
    },
    {
     "name": "stdout",
     "output_type": "stream",
     "text": [
      "1.1.1\n"
     ]
    }
   ],
   "source": [
    "import prophet\n",
    "print(prophet.__version__)\n"
   ]
  },
  {
   "cell_type": "code",
   "execution_count": 3,
   "id": "9e4af51d-3af9-4609-9ce5-c31964dcbf91",
   "metadata": {},
   "outputs": [
    {
     "name": "stdout",
     "output_type": "stream",
     "text": [
      "0.18\n"
     ]
    }
   ],
   "source": [
    "import holidays\n",
    "print(holidays.__version__)"
   ]
  },
  {
   "cell_type": "code",
   "execution_count": 4,
   "id": "5895abff-e82e-4ed1-88fe-f44a44c98841",
   "metadata": {},
   "outputs": [
    {
     "name": "stdout",
     "output_type": "stream",
     "text": [
      "Package               Version\n",
      "--------------------- -----------\n",
      "arviz                 0.17.1\n",
      "asttokens             2.0.5\n",
      "backcall              0.2.0\n",
      "cached-property       1.5.2\n",
      "certifi               2024.8.30\n",
      "cmdstanpy             1.1.0\n",
      "colorama              0.4.6\n",
      "comm                  0.2.1\n",
      "contourpy             1.3.0\n",
      "convertdate           2.4.0\n",
      "cycler                0.12.1\n",
      "Cython                3.0.11\n",
      "debugpy               1.6.7\n",
      "decorator             5.1.1\n",
      "ephem                 4.1.6\n",
      "exceptiongroup        1.2.0\n",
      "executing             0.8.3\n",
      "fonttools             4.55.0\n",
      "h5netcdf              1.2.0\n",
      "h5py                  3.12.1\n",
      "hijri-converter       2.3.1\n",
      "holidays              0.18\n",
      "importlib_metadata    8.5.0\n",
      "importlib_resources   6.4.5\n",
      "ipykernel             6.29.5\n",
      "ipython               8.15.0\n",
      "jedi                  0.19.1\n",
      "jupyter_client        8.6.0\n",
      "jupyter_core          5.7.2\n",
      "kiwisolver            1.4.7\n",
      "korean-lunar-calendar 0.3.1\n",
      "LunarCalendar         0.0.9\n",
      "matplotlib            3.9.2\n",
      "matplotlib-inline     0.1.6\n",
      "munkres               1.1.4\n",
      "nest-asyncio          1.6.0\n",
      "numpy                 1.26.4\n",
      "packaging             24.2\n",
      "pandas                2.2.3\n",
      "parso                 0.8.3\n",
      "pickleshare           0.7.5\n",
      "pillow                10.4.0\n",
      "pip                   24.2\n",
      "platformdirs          3.10.0\n",
      "prompt-toolkit        3.0.43\n",
      "prophet               1.1.1\n",
      "psutil                5.9.0\n",
      "pure-eval             0.2.2\n",
      "Pygments              2.15.1\n",
      "PyMeeus               0.5.12\n",
      "pyparsing             3.2.0\n",
      "pystan                2.19.1.1\n",
      "python-dateutil       2.9.0.post0\n",
      "pytz                  2024.1\n",
      "pywin32               305.1\n",
      "pyzmq                 25.1.2\n",
      "scipy                 1.13.1\n",
      "setuptools            75.1.0\n",
      "setuptools-git        1.2\n",
      "six                   1.16.0\n",
      "stack-data            0.2.0\n",
      "tornado               6.4.1\n",
      "tqdm                  4.67.1\n",
      "traitlets             5.14.3\n",
      "typing_extensions     4.11.0\n",
      "tzdata                2024.2\n",
      "unicodedata2          15.1.0\n",
      "wcwidth               0.2.5\n",
      "wheel                 0.44.0\n",
      "xarray                2023.6.0\n",
      "xarray-einstats       0.6.0\n",
      "zipp                  3.21.0\n",
      "Note: you may need to restart the kernel to use updated packages.\n"
     ]
    }
   ],
   "source": [
    "pip list"
   ]
  },
  {
   "cell_type": "code",
   "execution_count": 5,
   "id": "b89dde01-af2f-4508-8710-c06f4d32a020",
   "metadata": {},
   "outputs": [],
   "source": [
    "# Python\n",
    "import pandas as pd\n",
    "from prophet import Prophet\n"
   ]
  },
  {
   "cell_type": "code",
   "execution_count": 6,
   "id": "3fd6b7e7-edf3-450e-8ece-dc9d02cd7253",
   "metadata": {},
   "outputs": [
    {
     "data": {
      "text/html": [
       "<div>\n",
       "<style scoped>\n",
       "    .dataframe tbody tr th:only-of-type {\n",
       "        vertical-align: middle;\n",
       "    }\n",
       "\n",
       "    .dataframe tbody tr th {\n",
       "        vertical-align: top;\n",
       "    }\n",
       "\n",
       "    .dataframe thead th {\n",
       "        text-align: right;\n",
       "    }\n",
       "</style>\n",
       "<table border=\"1\" class=\"dataframe\">\n",
       "  <thead>\n",
       "    <tr style=\"text-align: right;\">\n",
       "      <th></th>\n",
       "      <th>ds</th>\n",
       "      <th>y</th>\n",
       "    </tr>\n",
       "  </thead>\n",
       "  <tbody>\n",
       "    <tr>\n",
       "      <th>0</th>\n",
       "      <td>2007-12-10</td>\n",
       "      <td>9.590761</td>\n",
       "    </tr>\n",
       "    <tr>\n",
       "      <th>1</th>\n",
       "      <td>2007-12-11</td>\n",
       "      <td>8.519590</td>\n",
       "    </tr>\n",
       "    <tr>\n",
       "      <th>2</th>\n",
       "      <td>2007-12-12</td>\n",
       "      <td>8.183677</td>\n",
       "    </tr>\n",
       "    <tr>\n",
       "      <th>3</th>\n",
       "      <td>2007-12-13</td>\n",
       "      <td>8.072467</td>\n",
       "    </tr>\n",
       "    <tr>\n",
       "      <th>4</th>\n",
       "      <td>2007-12-14</td>\n",
       "      <td>7.893572</td>\n",
       "    </tr>\n",
       "  </tbody>\n",
       "</table>\n",
       "</div>"
      ],
      "text/plain": [
       "           ds         y\n",
       "0  2007-12-10  9.590761\n",
       "1  2007-12-11  8.519590\n",
       "2  2007-12-12  8.183677\n",
       "3  2007-12-13  8.072467\n",
       "4  2007-12-14  7.893572"
      ]
     },
     "execution_count": 6,
     "metadata": {},
     "output_type": "execute_result"
    }
   ],
   "source": [
    "\n",
    "# Python\n",
    "df = pd.read_csv('https://raw.githubusercontent.com/facebook/prophet/main/examples/example_wp_log_peyton_manning.csv')\n",
    "df.head()"
   ]
  },
  {
   "cell_type": "code",
   "execution_count": 7,
   "id": "6c6ce810-a85e-4167-acb7-abab9923e370",
   "metadata": {},
   "outputs": [],
   "source": [
    "df['ds'] = pd.to_datetime(df['ds'])"
   ]
  },
  {
   "cell_type": "code",
   "execution_count": 8,
   "id": "df961153-d1d8-4bee-827a-4076c304106c",
   "metadata": {},
   "outputs": [],
   "source": [
    "# Python\n",
    "model = Prophet()"
   ]
  },
  {
   "cell_type": "code",
   "execution_count": 9,
   "id": "eaf7eb4b-189d-42ba-9d54-cb62d3e06ba6",
   "metadata": {},
   "outputs": [
    {
     "name": "stderr",
     "output_type": "stream",
     "text": [
      "15:06:35 - cmdstanpy - INFO - Chain [1] start processing\n",
      "15:06:35 - cmdstanpy - INFO - Chain [1] done processing\n",
      "15:06:35 - cmdstanpy - ERROR - Chain [1] error: terminated by signal 3221225657 \n",
      "Optimization terminated abnormally. Falling back to Newton.\n",
      "15:06:35 - cmdstanpy - INFO - Chain [1] start processing\n",
      "15:06:35 - cmdstanpy - INFO - Chain [1] done processing\n",
      "15:06:35 - cmdstanpy - ERROR - Chain [1] error: terminated by signal 3221225657 \n"
     ]
    },
    {
     "ename": "RuntimeError",
     "evalue": "Error during optimization! Command 'C:\\Anaconda\\envs\\prophet39_v2\\Lib\\site-packages\\prophet\\stan_model\\prophet_model.bin random seed=50622 data file=C:\\Users\\Venky\\AppData\\Local\\Temp\\tmpy21e3mzu\\uncovhp7.json init=C:\\Users\\Venky\\AppData\\Local\\Temp\\tmpy21e3mzu\\017qzme5.json output file=C:\\Users\\Venky\\AppData\\Local\\Temp\\tmpy21e3mzu\\prophet_modelu5n40zju\\prophet_model-20241202150635.csv method=optimize algorithm=newton iter=10000' failed: ",
     "output_type": "error",
     "traceback": [
      "\u001b[1;31m---------------------------------------------------------------------------\u001b[0m",
      "\u001b[1;31mRuntimeError\u001b[0m                              Traceback (most recent call last)",
      "File \u001b[1;32mC:\\Anaconda\\envs\\prophet39_v2\\lib\\site-packages\\prophet\\models.py:96\u001b[0m, in \u001b[0;36mCmdStanPyBackend.fit\u001b[1;34m(self, stan_init, stan_data, **kwargs)\u001b[0m\n\u001b[0;32m     95\u001b[0m \u001b[38;5;28;01mtry\u001b[39;00m:\n\u001b[1;32m---> 96\u001b[0m     \u001b[38;5;28mself\u001b[39m\u001b[38;5;241m.\u001b[39mstan_fit \u001b[38;5;241m=\u001b[39m \u001b[38;5;28mself\u001b[39m\u001b[38;5;241m.\u001b[39mmodel\u001b[38;5;241m.\u001b[39moptimize(\u001b[38;5;241m*\u001b[39m\u001b[38;5;241m*\u001b[39margs)\n\u001b[0;32m     97\u001b[0m \u001b[38;5;28;01mexcept\u001b[39;00m \u001b[38;5;167;01mRuntimeError\u001b[39;00m \u001b[38;5;28;01mas\u001b[39;00m e:\n\u001b[0;32m     98\u001b[0m     \u001b[38;5;66;03m# Fall back on Newton\u001b[39;00m\n",
      "File \u001b[1;32mC:\\Anaconda\\envs\\prophet39_v2\\lib\\site-packages\\cmdstanpy\\model.py:738\u001b[0m, in \u001b[0;36mCmdStanModel.optimize\u001b[1;34m(self, data, seed, inits, output_dir, sig_figs, save_profile, algorithm, init_alpha, tol_obj, tol_rel_obj, tol_grad, tol_rel_grad, tol_param, history_size, iter, save_iterations, require_converged, show_console, refresh, time_fmt, timeout)\u001b[0m\n\u001b[0;32m    737\u001b[0m     \u001b[38;5;28;01melse\u001b[39;00m:\n\u001b[1;32m--> 738\u001b[0m         \u001b[38;5;28;01mraise\u001b[39;00m \u001b[38;5;167;01mRuntimeError\u001b[39;00m(msg)\n\u001b[0;32m    739\u001b[0m mle \u001b[38;5;241m=\u001b[39m CmdStanMLE(runset)\n",
      "\u001b[1;31mRuntimeError\u001b[0m: Error during optimization! Command 'C:\\Anaconda\\envs\\prophet39_v2\\Lib\\site-packages\\prophet\\stan_model\\prophet_model.bin random seed=98593 data file=C:\\Users\\Venky\\AppData\\Local\\Temp\\tmpy21e3mzu\\lz8qre9o.json init=C:\\Users\\Venky\\AppData\\Local\\Temp\\tmpy21e3mzu\\kmk_rapr.json output file=C:\\Users\\Venky\\AppData\\Local\\Temp\\tmpy21e3mzu\\prophet_modellxzso7gq\\prophet_model-20241202150635.csv method=optimize algorithm=lbfgs iter=10000' failed: ",
      "\nDuring handling of the above exception, another exception occurred:\n",
      "\u001b[1;31mRuntimeError\u001b[0m                              Traceback (most recent call last)",
      "Cell \u001b[1;32mIn[9], line 1\u001b[0m\n\u001b[1;32m----> 1\u001b[0m \u001b[43mmodel\u001b[49m\u001b[38;5;241;43m.\u001b[39;49m\u001b[43mfit\u001b[49m\u001b[43m(\u001b[49m\u001b[43mdf\u001b[49m\u001b[43m)\u001b[49m\n",
      "File \u001b[1;32mC:\\Anaconda\\envs\\prophet39_v2\\lib\\site-packages\\prophet\\forecaster.py:1174\u001b[0m, in \u001b[0;36mProphet.fit\u001b[1;34m(self, df, **kwargs)\u001b[0m\n\u001b[0;32m   1172\u001b[0m     \u001b[38;5;28mself\u001b[39m\u001b[38;5;241m.\u001b[39mparams \u001b[38;5;241m=\u001b[39m \u001b[38;5;28mself\u001b[39m\u001b[38;5;241m.\u001b[39mstan_backend\u001b[38;5;241m.\u001b[39msampling(stan_init, dat, \u001b[38;5;28mself\u001b[39m\u001b[38;5;241m.\u001b[39mmcmc_samples, \u001b[38;5;241m*\u001b[39m\u001b[38;5;241m*\u001b[39mkwargs)\n\u001b[0;32m   1173\u001b[0m \u001b[38;5;28;01melse\u001b[39;00m:\n\u001b[1;32m-> 1174\u001b[0m     \u001b[38;5;28mself\u001b[39m\u001b[38;5;241m.\u001b[39mparams \u001b[38;5;241m=\u001b[39m \u001b[38;5;28mself\u001b[39m\u001b[38;5;241m.\u001b[39mstan_backend\u001b[38;5;241m.\u001b[39mfit(stan_init, dat, \u001b[38;5;241m*\u001b[39m\u001b[38;5;241m*\u001b[39mkwargs)\n\u001b[0;32m   1176\u001b[0m \u001b[38;5;28mself\u001b[39m\u001b[38;5;241m.\u001b[39mstan_fit \u001b[38;5;241m=\u001b[39m \u001b[38;5;28mself\u001b[39m\u001b[38;5;241m.\u001b[39mstan_backend\u001b[38;5;241m.\u001b[39mstan_fit\n\u001b[0;32m   1177\u001b[0m \u001b[38;5;66;03m# If no changepoints were requested, replace delta with 0s\u001b[39;00m\n",
      "File \u001b[1;32mC:\\Anaconda\\envs\\prophet39_v2\\lib\\site-packages\\prophet\\models.py:103\u001b[0m, in \u001b[0;36mCmdStanPyBackend.fit\u001b[1;34m(self, stan_init, stan_data, **kwargs)\u001b[0m\n\u001b[0;32m    101\u001b[0m     logger\u001b[38;5;241m.\u001b[39mwarning(\u001b[38;5;124m'\u001b[39m\u001b[38;5;124mOptimization terminated abnormally. Falling back to Newton.\u001b[39m\u001b[38;5;124m'\u001b[39m)\n\u001b[0;32m    102\u001b[0m     args[\u001b[38;5;124m'\u001b[39m\u001b[38;5;124malgorithm\u001b[39m\u001b[38;5;124m'\u001b[39m] \u001b[38;5;241m=\u001b[39m \u001b[38;5;124m'\u001b[39m\u001b[38;5;124mNewton\u001b[39m\u001b[38;5;124m'\u001b[39m\n\u001b[1;32m--> 103\u001b[0m     \u001b[38;5;28mself\u001b[39m\u001b[38;5;241m.\u001b[39mstan_fit \u001b[38;5;241m=\u001b[39m \u001b[38;5;28mself\u001b[39m\u001b[38;5;241m.\u001b[39mmodel\u001b[38;5;241m.\u001b[39moptimize(\u001b[38;5;241m*\u001b[39m\u001b[38;5;241m*\u001b[39margs)\n\u001b[0;32m    104\u001b[0m params \u001b[38;5;241m=\u001b[39m \u001b[38;5;28mself\u001b[39m\u001b[38;5;241m.\u001b[39mstan_to_dict_numpy(\n\u001b[0;32m    105\u001b[0m     \u001b[38;5;28mself\u001b[39m\u001b[38;5;241m.\u001b[39mstan_fit\u001b[38;5;241m.\u001b[39mcolumn_names, \u001b[38;5;28mself\u001b[39m\u001b[38;5;241m.\u001b[39mstan_fit\u001b[38;5;241m.\u001b[39moptimized_params_np)\n\u001b[0;32m    106\u001b[0m \u001b[38;5;28;01mfor\u001b[39;00m par \u001b[38;5;129;01min\u001b[39;00m params:\n",
      "File \u001b[1;32mC:\\Anaconda\\envs\\prophet39_v2\\lib\\site-packages\\cmdstanpy\\model.py:738\u001b[0m, in \u001b[0;36mCmdStanModel.optimize\u001b[1;34m(self, data, seed, inits, output_dir, sig_figs, save_profile, algorithm, init_alpha, tol_obj, tol_rel_obj, tol_grad, tol_rel_grad, tol_param, history_size, iter, save_iterations, require_converged, show_console, refresh, time_fmt, timeout)\u001b[0m\n\u001b[0;32m    736\u001b[0m         get_logger()\u001b[38;5;241m.\u001b[39mwarning(msg)\n\u001b[0;32m    737\u001b[0m     \u001b[38;5;28;01melse\u001b[39;00m:\n\u001b[1;32m--> 738\u001b[0m         \u001b[38;5;28;01mraise\u001b[39;00m \u001b[38;5;167;01mRuntimeError\u001b[39;00m(msg)\n\u001b[0;32m    739\u001b[0m mle \u001b[38;5;241m=\u001b[39m CmdStanMLE(runset)\n\u001b[0;32m    740\u001b[0m \u001b[38;5;28;01mreturn\u001b[39;00m mle\n",
      "\u001b[1;31mRuntimeError\u001b[0m: Error during optimization! Command 'C:\\Anaconda\\envs\\prophet39_v2\\Lib\\site-packages\\prophet\\stan_model\\prophet_model.bin random seed=50622 data file=C:\\Users\\Venky\\AppData\\Local\\Temp\\tmpy21e3mzu\\uncovhp7.json init=C:\\Users\\Venky\\AppData\\Local\\Temp\\tmpy21e3mzu\\017qzme5.json output file=C:\\Users\\Venky\\AppData\\Local\\Temp\\tmpy21e3mzu\\prophet_modelu5n40zju\\prophet_model-20241202150635.csv method=optimize algorithm=newton iter=10000' failed: "
     ]
    }
   ],
   "source": [
    "model.fit(df)"
   ]
  },
  {
   "cell_type": "code",
   "execution_count": 10,
   "id": "e89dafa5-e1ac-4916-8943-295be66c4707",
   "metadata": {},
   "outputs": [
    {
     "name": "stdout",
     "output_type": "stream",
     "text": [
      "Requirement already satisfied: prophet in c:\\anaconda\\envs\\prophet39_v2\\lib\\site-packages (1.1.1)\n",
      "Collecting prophet\n",
      "  Using cached prophet-1.1.6-py3-none-win_amd64.whl.metadata (3.6 kB)\n",
      "Requirement already satisfied: cmdstanpy>=1.0.4 in c:\\anaconda\\envs\\prophet39_v2\\lib\\site-packages (from prophet) (1.1.0)\n",
      "Requirement already satisfied: numpy>=1.15.4 in c:\\anaconda\\envs\\prophet39_v2\\lib\\site-packages (from prophet) (1.26.4)\n",
      "Requirement already satisfied: matplotlib>=2.0.0 in c:\\anaconda\\envs\\prophet39_v2\\lib\\site-packages (from prophet) (3.9.2)\n",
      "Requirement already satisfied: pandas>=1.0.4 in c:\\anaconda\\envs\\prophet39_v2\\lib\\site-packages (from prophet) (2.2.3)\n",
      "Collecting holidays<1,>=0.25 (from prophet)\n",
      "  Using cached holidays-0.61-py3-none-any.whl.metadata (26 kB)\n",
      "Requirement already satisfied: tqdm>=4.36.1 in c:\\anaconda\\envs\\prophet39_v2\\lib\\site-packages (from prophet) (4.67.1)\n",
      "Requirement already satisfied: importlib-resources in c:\\anaconda\\envs\\prophet39_v2\\lib\\site-packages (from prophet) (6.4.5)\n",
      "Requirement already satisfied: python-dateutil in c:\\anaconda\\envs\\prophet39_v2\\lib\\site-packages (from holidays<1,>=0.25->prophet) (2.9.0.post0)\n",
      "Requirement already satisfied: contourpy>=1.0.1 in c:\\anaconda\\envs\\prophet39_v2\\lib\\site-packages (from matplotlib>=2.0.0->prophet) (1.3.0)\n",
      "Requirement already satisfied: cycler>=0.10 in c:\\anaconda\\envs\\prophet39_v2\\lib\\site-packages (from matplotlib>=2.0.0->prophet) (0.12.1)\n",
      "Requirement already satisfied: fonttools>=4.22.0 in c:\\anaconda\\envs\\prophet39_v2\\lib\\site-packages (from matplotlib>=2.0.0->prophet) (4.55.0)\n",
      "Requirement already satisfied: kiwisolver>=1.3.1 in c:\\anaconda\\envs\\prophet39_v2\\lib\\site-packages (from matplotlib>=2.0.0->prophet) (1.4.7)\n",
      "Requirement already satisfied: packaging>=20.0 in c:\\anaconda\\envs\\prophet39_v2\\lib\\site-packages (from matplotlib>=2.0.0->prophet) (24.2)\n",
      "Requirement already satisfied: pillow>=8 in c:\\anaconda\\envs\\prophet39_v2\\lib\\site-packages (from matplotlib>=2.0.0->prophet) (10.4.0)\n",
      "Requirement already satisfied: pyparsing>=2.3.1 in c:\\anaconda\\envs\\prophet39_v2\\lib\\site-packages (from matplotlib>=2.0.0->prophet) (3.2.0)\n",
      "Requirement already satisfied: zipp>=3.1.0 in c:\\anaconda\\envs\\prophet39_v2\\lib\\site-packages (from importlib-resources->prophet) (3.21.0)\n",
      "Requirement already satisfied: pytz>=2020.1 in c:\\anaconda\\envs\\prophet39_v2\\lib\\site-packages (from pandas>=1.0.4->prophet) (2024.1)\n",
      "Requirement already satisfied: tzdata>=2022.7 in c:\\anaconda\\envs\\prophet39_v2\\lib\\site-packages (from pandas>=1.0.4->prophet) (2024.2)\n",
      "Requirement already satisfied: colorama in c:\\anaconda\\envs\\prophet39_v2\\lib\\site-packages (from tqdm>=4.36.1->prophet) (0.4.6)\n",
      "Requirement already satisfied: six>=1.5 in c:\\anaconda\\envs\\prophet39_v2\\lib\\site-packages (from python-dateutil->holidays<1,>=0.25->prophet) (1.16.0)\n",
      "Using cached prophet-1.1.6-py3-none-win_amd64.whl (13.3 MB)\n",
      "Using cached holidays-0.61-py3-none-any.whl (1.2 MB)\n",
      "Installing collected packages: holidays, prophet\n",
      "  Attempting uninstall: holidays\n",
      "    Found existing installation: holidays 0.18\n",
      "    Uninstalling holidays-0.18:\n",
      "      Successfully uninstalled holidays-0.18\n",
      "  Attempting uninstall: prophet\n",
      "    Found existing installation: prophet 1.1.1\n",
      "    Uninstalling prophet-1.1.1:\n",
      "      Successfully uninstalled prophet-1.1.1\n",
      "Successfully installed holidays-0.61 prophet-1.1.6\n",
      "Note: you may need to restart the kernel to use updated packages.\n"
     ]
    }
   ],
   "source": [
    "pip install --upgrade prophet"
   ]
  },
  {
   "cell_type": "code",
   "execution_count": 11,
   "id": "4e87a222-8d87-4d4d-9559-e644ec0daa0d",
   "metadata": {},
   "outputs": [
    {
     "name": "stdout",
     "output_type": "stream",
     "text": [
      "Requirement already satisfied: pystan in c:\\anaconda\\envs\\prophet39_v2\\lib\\site-packages (2.19.1.1)\n",
      "Collecting pystan\n",
      "  Using cached pystan-3.9.1-py3-none-any.whl.metadata (3.7 kB)\n",
      "Collecting aiohttp<4.0,>=3.6 (from pystan)\n",
      "  Downloading aiohttp-3.11.9-cp39-cp39-win_amd64.whl.metadata (8.0 kB)\n",
      "Collecting clikit<0.7,>=0.6 (from pystan)\n",
      "  Using cached clikit-0.6.2-py2.py3-none-any.whl.metadata (1.6 kB)\n",
      "INFO: pip is looking at multiple versions of pystan to determine which version is compatible with other requirements. This could take a while.\n",
      "Collecting pystan\n",
      "  Using cached pystan-3.9.0-py3-none-any.whl.metadata (3.7 kB)\n",
      "  Using cached pystan-3.8.0-py3-none-any.whl.metadata (3.8 kB)\n",
      "  Using cached pystan-3.7.0-py3-none-any.whl.metadata (3.7 kB)\n",
      "  Using cached pystan-3.6.0-py3-none-any.whl.metadata (3.7 kB)\n",
      "  Using cached pystan-3.5.0-py3-none-any.whl.metadata (3.7 kB)\n",
      "  Using cached pystan-3.4.0-py3-none-any.whl.metadata (3.7 kB)\n",
      "  Using cached pystan-3.3.0-py3-none-any.whl.metadata (3.6 kB)\n",
      "INFO: pip is still looking at multiple versions of pystan to determine which version is compatible with other requirements. This could take a while.\n",
      "  Using cached pystan-3.2.0-py3-none-any.whl.metadata (3.6 kB)\n",
      "  Using cached pystan-3.1.1-py3-none-any.whl.metadata (3.6 kB)\n",
      "  Using cached pystan-3.1.0-py3-none-any.whl.metadata (3.6 kB)\n",
      "  Using cached pystan-3.0.2-py3-none-any.whl.metadata (3.6 kB)\n",
      "  Using cached pystan-3.0.1-py3-none-any.whl.metadata (3.6 kB)\n",
      "INFO: This is taking longer than usual. You might need to provide the dependency resolver with stricter constraints to reduce runtime. See https://pip.pypa.io/warnings/backtracking for guidance. If you want to abort this run, press Ctrl + C.\n",
      "  Using cached pystan-3.0.0-py3-none-any.whl.metadata (3.6 kB)\n",
      "Requirement already satisfied: Cython!=0.25.1,>=0.22 in c:\\anaconda\\envs\\prophet39_v2\\lib\\site-packages (from pystan) (3.0.11)\n",
      "Requirement already satisfied: numpy>=1.7 in c:\\anaconda\\envs\\prophet39_v2\\lib\\site-packages (from pystan) (1.26.4)\n",
      "Note: you may need to restart the kernel to use updated packages.\n"
     ]
    }
   ],
   "source": [
    "pip install --upgrade pystan"
   ]
  },
  {
   "cell_type": "code",
   "execution_count": 12,
   "id": "a4743523-49bc-4c52-b492-2f7c1efa9c19",
   "metadata": {},
   "outputs": [
    {
     "name": "stdout",
     "output_type": "stream",
     "text": [
      "Requirement already satisfied: prophet in c:\\anaconda\\envs\\prophet39_v2\\lib\\site-packages (1.1.6)\n",
      "Requirement already satisfied: cmdstanpy>=1.0.4 in c:\\anaconda\\envs\\prophet39_v2\\lib\\site-packages (from prophet) (1.1.0)\n",
      "Requirement already satisfied: numpy>=1.15.4 in c:\\anaconda\\envs\\prophet39_v2\\lib\\site-packages (from prophet) (1.26.4)\n",
      "Requirement already satisfied: matplotlib>=2.0.0 in c:\\anaconda\\envs\\prophet39_v2\\lib\\site-packages (from prophet) (3.9.2)\n",
      "Requirement already satisfied: pandas>=1.0.4 in c:\\anaconda\\envs\\prophet39_v2\\lib\\site-packages (from prophet) (2.2.3)\n",
      "Requirement already satisfied: holidays<1,>=0.25 in c:\\anaconda\\envs\\prophet39_v2\\lib\\site-packages (from prophet) (0.61)\n",
      "Requirement already satisfied: tqdm>=4.36.1 in c:\\anaconda\\envs\\prophet39_v2\\lib\\site-packages (from prophet) (4.67.1)\n",
      "Requirement already satisfied: importlib-resources in c:\\anaconda\\envs\\prophet39_v2\\lib\\site-packages (from prophet) (6.4.5)\n",
      "Requirement already satisfied: python-dateutil in c:\\anaconda\\envs\\prophet39_v2\\lib\\site-packages (from holidays<1,>=0.25->prophet) (2.9.0.post0)\n",
      "Requirement already satisfied: contourpy>=1.0.1 in c:\\anaconda\\envs\\prophet39_v2\\lib\\site-packages (from matplotlib>=2.0.0->prophet) (1.3.0)\n",
      "Requirement already satisfied: cycler>=0.10 in c:\\anaconda\\envs\\prophet39_v2\\lib\\site-packages (from matplotlib>=2.0.0->prophet) (0.12.1)\n",
      "Requirement already satisfied: fonttools>=4.22.0 in c:\\anaconda\\envs\\prophet39_v2\\lib\\site-packages (from matplotlib>=2.0.0->prophet) (4.55.0)\n",
      "Requirement already satisfied: kiwisolver>=1.3.1 in c:\\anaconda\\envs\\prophet39_v2\\lib\\site-packages (from matplotlib>=2.0.0->prophet) (1.4.7)\n",
      "Requirement already satisfied: packaging>=20.0 in c:\\anaconda\\envs\\prophet39_v2\\lib\\site-packages (from matplotlib>=2.0.0->prophet) (24.2)\n",
      "Requirement already satisfied: pillow>=8 in c:\\anaconda\\envs\\prophet39_v2\\lib\\site-packages (from matplotlib>=2.0.0->prophet) (10.4.0)\n",
      "Requirement already satisfied: pyparsing>=2.3.1 in c:\\anaconda\\envs\\prophet39_v2\\lib\\site-packages (from matplotlib>=2.0.0->prophet) (3.2.0)\n",
      "Requirement already satisfied: zipp>=3.1.0 in c:\\anaconda\\envs\\prophet39_v2\\lib\\site-packages (from importlib-resources->prophet) (3.21.0)\n",
      "Requirement already satisfied: pytz>=2020.1 in c:\\anaconda\\envs\\prophet39_v2\\lib\\site-packages (from pandas>=1.0.4->prophet) (2024.1)\n",
      "Requirement already satisfied: tzdata>=2022.7 in c:\\anaconda\\envs\\prophet39_v2\\lib\\site-packages (from pandas>=1.0.4->prophet) (2024.2)\n",
      "Requirement already satisfied: colorama in c:\\anaconda\\envs\\prophet39_v2\\lib\\site-packages (from tqdm>=4.36.1->prophet) (0.4.6)\n",
      "Requirement already satisfied: six>=1.5 in c:\\anaconda\\envs\\prophet39_v2\\lib\\site-packages (from python-dateutil->holidays<1,>=0.25->prophet) (1.16.0)\n",
      "Note: you may need to restart the kernel to use updated packages.\n"
     ]
    }
   ],
   "source": [
    "pip install --upgrade prophet"
   ]
  },
  {
   "cell_type": "code",
   "execution_count": 13,
   "id": "0d34479f-c90c-489d-b5b9-bf9ab95d1bf5",
   "metadata": {},
   "outputs": [
    {
     "name": "stdout",
     "output_type": "stream",
     "text": [
      "Package               Version\n",
      "--------------------- -----------\n",
      "arviz                 0.17.1\n",
      "asttokens             2.0.5\n",
      "backcall              0.2.0\n",
      "cached-property       1.5.2\n",
      "certifi               2024.8.30\n",
      "cmdstanpy             1.1.0\n",
      "colorama              0.4.6\n",
      "comm                  0.2.1\n",
      "contourpy             1.3.0\n",
      "convertdate           2.4.0\n",
      "cycler                0.12.1\n",
      "Cython                3.0.11\n",
      "debugpy               1.6.7\n",
      "decorator             5.1.1\n",
      "ephem                 4.1.6\n",
      "exceptiongroup        1.2.0\n",
      "executing             0.8.3\n",
      "fonttools             4.55.0\n",
      "h5netcdf              1.2.0\n",
      "h5py                  3.12.1\n",
      "hijri-converter       2.3.1\n",
      "holidays              0.61\n",
      "importlib_metadata    8.5.0\n",
      "importlib_resources   6.4.5\n",
      "ipykernel             6.29.5\n",
      "ipython               8.15.0\n",
      "jedi                  0.19.1\n",
      "jupyter_client        8.6.0\n",
      "jupyter_core          5.7.2\n",
      "kiwisolver            1.4.7\n",
      "korean-lunar-calendar 0.3.1\n",
      "LunarCalendar         0.0.9\n",
      "matplotlib            3.9.2\n",
      "matplotlib-inline     0.1.6\n",
      "munkres               1.1.4\n",
      "nest-asyncio          1.6.0\n",
      "numpy                 1.26.4\n",
      "packaging             24.2\n",
      "pandas                2.2.3\n",
      "parso                 0.8.3\n",
      "pickleshare           0.7.5\n",
      "pillow                10.4.0\n",
      "pip                   24.2\n",
      "platformdirs          3.10.0\n",
      "prompt-toolkit        3.0.43\n",
      "prophet               1.1.6\n",
      "psutil                5.9.0\n",
      "pure-eval             0.2.2\n",
      "Pygments              2.15.1\n",
      "PyMeeus               0.5.12\n",
      "pyparsing             3.2.0\n",
      "pystan                2.19.1.1\n",
      "python-dateutil       2.9.0.post0\n",
      "pytz                  2024.1\n",
      "pywin32               305.1\n",
      "pyzmq                 25.1.2\n",
      "scipy                 1.13.1\n",
      "setuptools            75.1.0\n",
      "setuptools-git        1.2\n",
      "six                   1.16.0\n",
      "stack-data            0.2.0\n",
      "tornado               6.4.1\n",
      "tqdm                  4.67.1\n",
      "traitlets             5.14.3\n",
      "typing_extensions     4.11.0\n",
      "tzdata                2024.2\n",
      "unicodedata2          15.1.0\n",
      "wcwidth               0.2.5\n",
      "wheel                 0.44.0\n",
      "xarray                2023.6.0\n",
      "xarray-einstats       0.6.0\n",
      "zipp                  3.21.0\n",
      "Note: you may need to restart the kernel to use updated packages.\n"
     ]
    }
   ],
   "source": [
    "pip list"
   ]
  },
  {
   "cell_type": "code",
   "execution_count": 15,
   "id": "72dd2bd5-1245-4b16-a2a8-96c4658907ca",
   "metadata": {},
   "outputs": [],
   "source": [
    "# Python\n",
    "model = Prophet()"
   ]
  },
  {
   "cell_type": "code",
   "execution_count": 16,
   "id": "9968bb0b-835a-4723-8a7d-ba0008f694c3",
   "metadata": {},
   "outputs": [
    {
     "name": "stderr",
     "output_type": "stream",
     "text": [
      "15:32:24 - cmdstanpy - INFO - Chain [1] start processing\n",
      "15:32:24 - cmdstanpy - INFO - Chain [1] done processing\n",
      "15:32:24 - cmdstanpy - ERROR - Chain [1] error: terminated by signal 3221225657 \n",
      "Optimization terminated abnormally. Falling back to Newton.\n",
      "15:32:24 - cmdstanpy - INFO - Chain [1] start processing\n",
      "15:32:24 - cmdstanpy - INFO - Chain [1] done processing\n",
      "15:32:24 - cmdstanpy - ERROR - Chain [1] error: terminated by signal 3221225657 \n"
     ]
    },
    {
     "ename": "RuntimeError",
     "evalue": "Error during optimization! Command 'C:\\Anaconda\\envs\\prophet39_v2\\Lib\\site-packages\\prophet\\stan_model\\prophet_model.bin random seed=30341 data file=C:\\Users\\Venky\\AppData\\Local\\Temp\\tmpy21e3mzu\\88f05k55.json init=C:\\Users\\Venky\\AppData\\Local\\Temp\\tmpy21e3mzu\\89484obp.json output file=C:\\Users\\Venky\\AppData\\Local\\Temp\\tmpy21e3mzu\\prophet_modelee9e3_7b\\prophet_model-20241202153224.csv method=optimize algorithm=newton iter=10000' failed: ",
     "output_type": "error",
     "traceback": [
      "\u001b[1;31m---------------------------------------------------------------------------\u001b[0m",
      "\u001b[1;31mRuntimeError\u001b[0m                              Traceback (most recent call last)",
      "File \u001b[1;32mC:\\Anaconda\\envs\\prophet39_v2\\lib\\site-packages\\prophet\\models.py:96\u001b[0m, in \u001b[0;36mCmdStanPyBackend.fit\u001b[1;34m(self, stan_init, stan_data, **kwargs)\u001b[0m\n\u001b[0;32m     95\u001b[0m \u001b[38;5;28;01mtry\u001b[39;00m:\n\u001b[1;32m---> 96\u001b[0m     \u001b[38;5;28mself\u001b[39m\u001b[38;5;241m.\u001b[39mstan_fit \u001b[38;5;241m=\u001b[39m \u001b[38;5;28mself\u001b[39m\u001b[38;5;241m.\u001b[39mmodel\u001b[38;5;241m.\u001b[39moptimize(\u001b[38;5;241m*\u001b[39m\u001b[38;5;241m*\u001b[39margs)\n\u001b[0;32m     97\u001b[0m \u001b[38;5;28;01mexcept\u001b[39;00m \u001b[38;5;167;01mRuntimeError\u001b[39;00m \u001b[38;5;28;01mas\u001b[39;00m e:\n\u001b[0;32m     98\u001b[0m     \u001b[38;5;66;03m# Fall back on Newton\u001b[39;00m\n",
      "File \u001b[1;32mC:\\Anaconda\\envs\\prophet39_v2\\lib\\site-packages\\cmdstanpy\\model.py:738\u001b[0m, in \u001b[0;36mCmdStanModel.optimize\u001b[1;34m(self, data, seed, inits, output_dir, sig_figs, save_profile, algorithm, init_alpha, tol_obj, tol_rel_obj, tol_grad, tol_rel_grad, tol_param, history_size, iter, save_iterations, require_converged, show_console, refresh, time_fmt, timeout)\u001b[0m\n\u001b[0;32m    737\u001b[0m     \u001b[38;5;28;01melse\u001b[39;00m:\n\u001b[1;32m--> 738\u001b[0m         \u001b[38;5;28;01mraise\u001b[39;00m \u001b[38;5;167;01mRuntimeError\u001b[39;00m(msg)\n\u001b[0;32m    739\u001b[0m mle \u001b[38;5;241m=\u001b[39m CmdStanMLE(runset)\n",
      "\u001b[1;31mRuntimeError\u001b[0m: Error during optimization! Command 'C:\\Anaconda\\envs\\prophet39_v2\\Lib\\site-packages\\prophet\\stan_model\\prophet_model.bin random seed=91681 data file=C:\\Users\\Venky\\AppData\\Local\\Temp\\tmpy21e3mzu\\rf_ofmds.json init=C:\\Users\\Venky\\AppData\\Local\\Temp\\tmpy21e3mzu\\pg5xjt6_.json output file=C:\\Users\\Venky\\AppData\\Local\\Temp\\tmpy21e3mzu\\prophet_model6j08hgby\\prophet_model-20241202153224.csv method=optimize algorithm=lbfgs iter=10000' failed: ",
      "\nDuring handling of the above exception, another exception occurred:\n",
      "\u001b[1;31mRuntimeError\u001b[0m                              Traceback (most recent call last)",
      "Cell \u001b[1;32mIn[16], line 1\u001b[0m\n\u001b[1;32m----> 1\u001b[0m \u001b[43mmodel\u001b[49m\u001b[38;5;241;43m.\u001b[39;49m\u001b[43mfit\u001b[49m\u001b[43m(\u001b[49m\u001b[43mdf\u001b[49m\u001b[43m)\u001b[49m\n",
      "File \u001b[1;32mC:\\Anaconda\\envs\\prophet39_v2\\lib\\site-packages\\prophet\\forecaster.py:1174\u001b[0m, in \u001b[0;36mProphet.fit\u001b[1;34m(self, df, **kwargs)\u001b[0m\n\u001b[0;32m   1172\u001b[0m     \u001b[38;5;28mself\u001b[39m\u001b[38;5;241m.\u001b[39mparams \u001b[38;5;241m=\u001b[39m \u001b[38;5;28mself\u001b[39m\u001b[38;5;241m.\u001b[39mstan_backend\u001b[38;5;241m.\u001b[39msampling(stan_init, dat, \u001b[38;5;28mself\u001b[39m\u001b[38;5;241m.\u001b[39mmcmc_samples, \u001b[38;5;241m*\u001b[39m\u001b[38;5;241m*\u001b[39mkwargs)\n\u001b[0;32m   1173\u001b[0m \u001b[38;5;28;01melse\u001b[39;00m:\n\u001b[1;32m-> 1174\u001b[0m     \u001b[38;5;28mself\u001b[39m\u001b[38;5;241m.\u001b[39mparams \u001b[38;5;241m=\u001b[39m \u001b[38;5;28mself\u001b[39m\u001b[38;5;241m.\u001b[39mstan_backend\u001b[38;5;241m.\u001b[39mfit(stan_init, dat, \u001b[38;5;241m*\u001b[39m\u001b[38;5;241m*\u001b[39mkwargs)\n\u001b[0;32m   1176\u001b[0m \u001b[38;5;28mself\u001b[39m\u001b[38;5;241m.\u001b[39mstan_fit \u001b[38;5;241m=\u001b[39m \u001b[38;5;28mself\u001b[39m\u001b[38;5;241m.\u001b[39mstan_backend\u001b[38;5;241m.\u001b[39mstan_fit\n\u001b[0;32m   1177\u001b[0m \u001b[38;5;66;03m# If no changepoints were requested, replace delta with 0s\u001b[39;00m\n",
      "File \u001b[1;32mC:\\Anaconda\\envs\\prophet39_v2\\lib\\site-packages\\prophet\\models.py:103\u001b[0m, in \u001b[0;36mCmdStanPyBackend.fit\u001b[1;34m(self, stan_init, stan_data, **kwargs)\u001b[0m\n\u001b[0;32m    101\u001b[0m     logger\u001b[38;5;241m.\u001b[39mwarning(\u001b[38;5;124m'\u001b[39m\u001b[38;5;124mOptimization terminated abnormally. Falling back to Newton.\u001b[39m\u001b[38;5;124m'\u001b[39m)\n\u001b[0;32m    102\u001b[0m     args[\u001b[38;5;124m'\u001b[39m\u001b[38;5;124malgorithm\u001b[39m\u001b[38;5;124m'\u001b[39m] \u001b[38;5;241m=\u001b[39m \u001b[38;5;124m'\u001b[39m\u001b[38;5;124mNewton\u001b[39m\u001b[38;5;124m'\u001b[39m\n\u001b[1;32m--> 103\u001b[0m     \u001b[38;5;28mself\u001b[39m\u001b[38;5;241m.\u001b[39mstan_fit \u001b[38;5;241m=\u001b[39m \u001b[38;5;28mself\u001b[39m\u001b[38;5;241m.\u001b[39mmodel\u001b[38;5;241m.\u001b[39moptimize(\u001b[38;5;241m*\u001b[39m\u001b[38;5;241m*\u001b[39margs)\n\u001b[0;32m    104\u001b[0m params \u001b[38;5;241m=\u001b[39m \u001b[38;5;28mself\u001b[39m\u001b[38;5;241m.\u001b[39mstan_to_dict_numpy(\n\u001b[0;32m    105\u001b[0m     \u001b[38;5;28mself\u001b[39m\u001b[38;5;241m.\u001b[39mstan_fit\u001b[38;5;241m.\u001b[39mcolumn_names, \u001b[38;5;28mself\u001b[39m\u001b[38;5;241m.\u001b[39mstan_fit\u001b[38;5;241m.\u001b[39moptimized_params_np)\n\u001b[0;32m    106\u001b[0m \u001b[38;5;28;01mfor\u001b[39;00m par \u001b[38;5;129;01min\u001b[39;00m params:\n",
      "File \u001b[1;32mC:\\Anaconda\\envs\\prophet39_v2\\lib\\site-packages\\cmdstanpy\\model.py:738\u001b[0m, in \u001b[0;36mCmdStanModel.optimize\u001b[1;34m(self, data, seed, inits, output_dir, sig_figs, save_profile, algorithm, init_alpha, tol_obj, tol_rel_obj, tol_grad, tol_rel_grad, tol_param, history_size, iter, save_iterations, require_converged, show_console, refresh, time_fmt, timeout)\u001b[0m\n\u001b[0;32m    736\u001b[0m         get_logger()\u001b[38;5;241m.\u001b[39mwarning(msg)\n\u001b[0;32m    737\u001b[0m     \u001b[38;5;28;01melse\u001b[39;00m:\n\u001b[1;32m--> 738\u001b[0m         \u001b[38;5;28;01mraise\u001b[39;00m \u001b[38;5;167;01mRuntimeError\u001b[39;00m(msg)\n\u001b[0;32m    739\u001b[0m mle \u001b[38;5;241m=\u001b[39m CmdStanMLE(runset)\n\u001b[0;32m    740\u001b[0m \u001b[38;5;28;01mreturn\u001b[39;00m mle\n",
      "\u001b[1;31mRuntimeError\u001b[0m: Error during optimization! Command 'C:\\Anaconda\\envs\\prophet39_v2\\Lib\\site-packages\\prophet\\stan_model\\prophet_model.bin random seed=30341 data file=C:\\Users\\Venky\\AppData\\Local\\Temp\\tmpy21e3mzu\\88f05k55.json init=C:\\Users\\Venky\\AppData\\Local\\Temp\\tmpy21e3mzu\\89484obp.json output file=C:\\Users\\Venky\\AppData\\Local\\Temp\\tmpy21e3mzu\\prophet_modelee9e3_7b\\prophet_model-20241202153224.csv method=optimize algorithm=newton iter=10000' failed: "
     ]
    }
   ],
   "source": [
    "model.fit(df)"
   ]
  },
  {
   "cell_type": "code",
   "execution_count": null,
   "id": "0761d114-487d-4bc9-933c-aa2e56dfed2e",
   "metadata": {},
   "outputs": [],
   "source": []
  }
 ],
 "metadata": {
  "kernelspec": {
   "display_name": "Python prpohet39_v2",
   "language": "python",
   "name": "prophet39_v2"
  },
  "language_info": {
   "codemirror_mode": {
    "name": "ipython",
    "version": 3
   },
   "file_extension": ".py",
   "mimetype": "text/x-python",
   "name": "python",
   "nbconvert_exporter": "python",
   "pygments_lexer": "ipython3",
   "version": "3.9.20"
  }
 },
 "nbformat": 4,
 "nbformat_minor": 5
}
